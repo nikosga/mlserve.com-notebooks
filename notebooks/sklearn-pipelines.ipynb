{
 "cells": [
  {
   "cell_type": "markdown",
   "id": "55448c6f-bfa9-4563-a4b3-2dc70a302a6f",
   "metadata": {},
   "source": [
    "# MLServe SDK with sklearn pipelines\n",
    "\n",
    "We will generate a synthetic dataset for a fraud usecase and build a fraud classification model using sklearn pipelines. We will then deploy the model and test it."
   ]
  },
  {
   "cell_type": "code",
   "execution_count": 1,
   "id": "a37b76fe-7e6f-4252-85e4-8a7a859fd8e2",
   "metadata": {},
   "outputs": [],
   "source": [
    "%load_ext autoreload\n",
    "%autoreload 2"
   ]
  },
  {
   "cell_type": "code",
   "execution_count": 2,
   "id": "dd82e364-0854-4f0e-927c-8e6dee9da454",
   "metadata": {},
   "outputs": [
    {
     "data": {
      "text/plain": [
       "True"
      ]
     },
     "execution_count": 2,
     "metadata": {},
     "output_type": "execute_result"
    }
   ],
   "source": [
    "import numpy as np\n",
    "import pandas as pd\n",
    "from sklearn.model_selection import train_test_split\n",
    "from sklearn.pipeline import Pipeline\n",
    "from sklearn.compose import ColumnTransformer\n",
    "from sklearn.preprocessing import FunctionTransformer\n",
    "from sklearn.preprocessing import OneHotEncoder, StandardScaler\n",
    "from sklearn.feature_extraction.text import TfidfVectorizer\n",
    "from sklearn.impute import SimpleImputer\n",
    "from xgboost import XGBClassifier\n",
    "from sklearn.base import BaseEstimator, TransformerMixin\n",
    "\n",
    "from mlserve_sdk.client import MLServeClient\n",
    "import os\n",
    "from dotenv import load_dotenv\n",
    "\n",
    "load_dotenv()"
   ]
  },
  {
   "cell_type": "code",
   "execution_count": 3,
   "id": "254a6e74-94d1-49aa-a04c-9470633b44f5",
   "metadata": {
    "jupyter": {
     "source_hidden": true
    }
   },
   "outputs": [],
   "source": [
    "# -----------------------------\n",
    "# Fraud Data Generator\n",
    "# -----------------------------\n",
    "def generate_fraud_data(n_samples=1000, missing_frac=0.05, random_state=42):\n",
    "    \"\"\"\n",
    "    Generate synthetic fraud dataset for ML benchmarking.\n",
    "\n",
    "    Parameters\n",
    "    ----------\n",
    "    n_samples : int\n",
    "        Number of rows to generate.\n",
    "    missing_frac : float\n",
    "        Fraction of missing values to inject per column (0–1).\n",
    "    random_state : int\n",
    "        Seed for reproducibility.\n",
    "\n",
    "    Returns\n",
    "    -------\n",
    "    X : pd.DataFrame\n",
    "        Feature matrix with categorical, numerical & text features.\n",
    "    y : pd.Series\n",
    "        Binary fraud target (0 = legit, 1 = fraud).\n",
    "    \"\"\"\n",
    "    np.random.seed(random_state)\n",
    "\n",
    "    data = {\n",
    "        \"transaction_id\": np.arange(1, n_samples + 1),\n",
    "        \"amount\": np.round(np.random.exponential(scale=100, size=n_samples), 2),\n",
    "        \"transaction_type\": np.random.choice(\n",
    "            [\"online_purchase\", \"in_store\", \"transfer\", \"atm_withdrawal\"],\n",
    "            size=n_samples,\n",
    "            p=[0.4, 0.3, 0.2, 0.1],\n",
    "        ),\n",
    "        \"device_type\": np.random.choice(\n",
    "            [\"mobile\", \"desktop\", \"tablet\"],\n",
    "            size=n_samples,\n",
    "            p=[0.6, 0.3, 0.1],\n",
    "        ),\n",
    "        \"customer_age\": np.random.randint(18, 80, n_samples),\n",
    "        \"account_tenure_days\": np.random.randint(30, 3650, n_samples),\n",
    "        \"country\": np.random.choice(\n",
    "            [\"US\", \"UK\", \"DE\", \"NG\", \"IN\", \"CN\", \"BR\"],\n",
    "            size=n_samples,\n",
    "        ),\n",
    "        \"num_prev_transactions\": np.random.poisson(lam=30, size=n_samples),\n",
    "    }\n",
    "\n",
    "    X = pd.DataFrame(data)\n",
    "\n",
    "    # Inject missing values\n",
    "    if missing_frac > 0:\n",
    "        for col in X.columns.drop(\"transaction_id\"):\n",
    "            X.loc[\n",
    "                X.sample(frac=missing_frac, random_state=random_state).index, col\n",
    "            ] = np.nan\n",
    "\n",
    "    # Fraud probability (rules + noise)\n",
    "    prob_fraud = (\n",
    "        0.3 * (X[\"transaction_type\"] == \"online_purchase\").astype(float)\n",
    "        + 0.25 * (X[\"device_type\"] == \"mobile\").astype(float)\n",
    "        + 0.2 * (X[\"country\"].isin([\"NG\", \"CN\", \"BR\"])).astype(float)\n",
    "        + 0.002 * X[\"amount\"].fillna(100)\n",
    "        + 0.01 * (X[\"num_prev_transactions\"].fillna(0) < 5).astype(float)\n",
    "        + np.random.normal(0, 0.1, n_samples)\n",
    "    )\n",
    "    prob_fraud = 1 / (1 + np.exp(-prob_fraud))  # sigmoid\n",
    "\n",
    "    y = pd.Series(np.random.binomial(1, prob_fraud), name=\"is_fraud\")\n",
    "\n",
    "    return X, y"
   ]
  },
  {
   "cell_type": "code",
   "execution_count": 4,
   "id": "c3336648-316c-429c-ba68-14200435b4f1",
   "metadata": {},
   "outputs": [
    {
     "name": "stdout",
     "output_type": "stream",
     "text": [
      "Train score: 1.0\n",
      "Test score: 0.565\n"
     ]
    }
   ],
   "source": [
    "X, y = generate_fraud_data()\n",
    "# Drop ID column if exists\n",
    "if \"transaction_id\" in X.columns:\n",
    "    X = X.drop(columns=[\"transaction_id\"])\n",
    "\n",
    "categorical_features = [\"transaction_type\", \"device_type\", \"country\"]\n",
    "numeric_features = [\"amount\", \"customer_age\", \"account_tenure_days\", \"num_prev_transactions\"]\n",
    "\n",
    "# -----------------------------\n",
    "# ColumnTransformer\n",
    "# -----------------------------\n",
    "preprocessor = ColumnTransformer(\n",
    "    transformers=[\n",
    "        (\"cat\", Pipeline([\n",
    "            (\"imputer\", SimpleImputer(strategy=\"constant\", fill_value=\"missing\")),\n",
    "            (\"onehot\", OneHotEncoder(handle_unknown=\"ignore\"))\n",
    "        ]), categorical_features),\n",
    "        (\"num\", Pipeline([\n",
    "            (\"imputer\", SimpleImputer(strategy=\"median\")),\n",
    "            (\"scaler\", StandardScaler())\n",
    "        ]), numeric_features)\n",
    "    ]\n",
    ")\n",
    "\n",
    "# -----------------------------\n",
    "# Full pipeline\n",
    "# -----------------------------\n",
    "model = Pipeline([\n",
    "    (\"preprocessor\", preprocessor),\n",
    "    (\"classifier\", XGBClassifier(eval_metric=\"logloss\"))\n",
    "])\n",
    "# Ensure X is DataFrame\n",
    "X = X.copy()\n",
    "\n",
    "# Train/test split\n",
    "X_train, X_test, y_train, y_test = train_test_split(X, y, test_size=0.2, random_state=42)\n",
    "\n",
    "# Fit model\n",
    "model.fit(X_train, y_train)\n",
    "\n",
    "# Evaluate\n",
    "print(\"Train score:\", model.score(X_train, y_train))\n",
    "print(\"Test score:\", model.score(X_test, y_test))"
   ]
  },
  {
   "cell_type": "code",
   "execution_count": 5,
   "id": "8d0e22f3-8127-43ee-9da9-16d0c9ff31f2",
   "metadata": {},
   "outputs": [],
   "source": [
    "# -----------------------------\n",
    "# 2. Connect to MLServe\n",
    "# -----------------------------\n",
    "USERNAME = os.getenv(\"USERNAME\")\n",
    "TOKEN = os.getenv(\"TOKEN\")\n",
    "\n",
    "client = MLServeClient()\n",
    "client.login(USERNAME, TOKEN)"
   ]
  },
  {
   "cell_type": "code",
   "execution_count": 20,
   "id": "7aa57c08-b1e3-48f7-9a1c-9b8b8d8a839e",
   "metadata": {},
   "outputs": [
    {
     "name": "stdout",
     "output_type": "stream",
     "text": [
      "v2\n"
     ]
    }
   ],
   "source": [
    "try:\n",
    "    lv=client.get_latest_version(\"fraud\")\n",
    "    next_version=lv[\"next_version\"]\n",
    "except:\n",
    "    next_version=\"v1\"\n",
    "\n",
    "print(next_version)"
   ]
  },
  {
   "cell_type": "code",
   "execution_count": 21,
   "id": "464b4628-dfb7-4ff1-9306-756005efb6b5",
   "metadata": {},
   "outputs": [
    {
     "data": {
      "text/plain": [
       "{'predict_url': 'https://mlserve.com/api/v1/predict/fraud/v2'}"
      ]
     },
     "execution_count": 21,
     "metadata": {},
     "output_type": "execute_result"
    }
   ],
   "source": [
    "# -----------------------------\n",
    "# 3. Deploy model\n",
    "# -----------------------------\n",
    "feats=list(X)\n",
    "\n",
    "client.deploy(\n",
    "    model=model,\n",
    "    name=\"fraud\",\n",
    "    version=next_version,\n",
    "    features=feats,\n",
    "    background_df=X.sample(300),\n",
    "    metrics={'accuracy':model.score(X_test, y_test)},\n",
    "    task_type='classification'\n",
    ")"
   ]
  },
  {
   "cell_type": "code",
   "execution_count": 24,
   "id": "4a94f5e6-a226-4d4c-a2ba-6846300a2f68",
   "metadata": {
    "scrolled": true
   },
   "outputs": [
    {
     "name": "stdout",
     "output_type": "stream",
     "text": [
      "CPU times: user 34.4 ms, sys: 3.15 ms, total: 37.5 ms\n",
      "Wall time: 1.16 s\n"
     ]
    }
   ],
   "source": [
    "%%time\n",
    "\n",
    "TEST_DATA = {\n",
    "    \"features\": X.columns.tolist(),\n",
    "    \"inputs\": X.values.tolist()\n",
    "}\n",
    "\n",
    "preds = client.predict(\"fraud\", next_version, TEST_DATA)\n",
    "#preds['explanations']"
   ]
  },
  {
   "cell_type": "code",
   "execution_count": 23,
   "id": "8db7a9d5-48cf-42c4-a98e-cbad76441b3d",
   "metadata": {},
   "outputs": [
    {
     "name": "stdout",
     "output_type": "stream",
     "text": [
      "CPU times: user 41.6 ms, sys: 3.22 ms, total: 44.8 ms\n",
      "Wall time: 560 ms\n"
     ]
    }
   ],
   "source": [
    "%%time\n",
    "\n",
    "TEST_DATA = {\n",
    "    \"features\": X.columns.tolist(),\n",
    "    \"inputs\": X.values.tolist()\n",
    "}\n",
    "preds = client.predict_weighted(\"fraud\", TEST_DATA, entity_ids=[\"user-133\"]*len(X))"
   ]
  },
  {
   "cell_type": "code",
   "execution_count": 25,
   "id": "e07f122e-0084-416c-84e9-df7e84bd8b6b",
   "metadata": {},
   "outputs": [
    {
     "data": {
      "text/html": [
       "<div>\n",
       "<style scoped>\n",
       "    .dataframe tbody tr th:only-of-type {\n",
       "        vertical-align: middle;\n",
       "    }\n",
       "\n",
       "    .dataframe tbody tr th {\n",
       "        vertical-align: top;\n",
       "    }\n",
       "\n",
       "    .dataframe thead th {\n",
       "        text-align: right;\n",
       "    }\n",
       "</style>\n",
       "<table border=\"1\" class=\"dataframe\">\n",
       "  <thead>\n",
       "    <tr style=\"text-align: right;\">\n",
       "      <th></th>\n",
       "      <th>requests</th>\n",
       "      <th>predictions</th>\n",
       "      <th>throughput_rps</th>\n",
       "      <th>prediction_rps</th>\n",
       "      <th>avg_latency_ms</th>\n",
       "      <th>p50_latency_ms</th>\n",
       "      <th>p95_latency_ms</th>\n",
       "      <th>p99_latency_ms</th>\n",
       "      <th>avg_latency_per_element_ms</th>\n",
       "      <th>p50_latency_per_element_ms</th>\n",
       "      <th>p95_latency_per_element_ms</th>\n",
       "      <th>p99_latency_per_element_ms</th>\n",
       "      <th>error_rate</th>\n",
       "    </tr>\n",
       "    <tr>\n",
       "      <th>timestamp</th>\n",
       "      <th></th>\n",
       "      <th></th>\n",
       "      <th></th>\n",
       "      <th></th>\n",
       "      <th></th>\n",
       "      <th></th>\n",
       "      <th></th>\n",
       "      <th></th>\n",
       "      <th></th>\n",
       "      <th></th>\n",
       "      <th></th>\n",
       "      <th></th>\n",
       "      <th></th>\n",
       "    </tr>\n",
       "  </thead>\n",
       "  <tbody>\n",
       "    <tr>\n",
       "      <th>2025-10-08 20:00:00+00:00</th>\n",
       "      <td>6</td>\n",
       "      <td>3000</td>\n",
       "      <td>0.001667</td>\n",
       "      <td>0.833333</td>\n",
       "      <td>158.311112</td>\n",
       "      <td>142.672203</td>\n",
       "      <td>220.696171</td>\n",
       "      <td>229.907193</td>\n",
       "      <td>0.316622</td>\n",
       "      <td>0.285344</td>\n",
       "      <td>0.441392</td>\n",
       "      <td>0.459814</td>\n",
       "      <td>0.0</td>\n",
       "    </tr>\n",
       "  </tbody>\n",
       "</table>\n",
       "</div>"
      ],
      "text/plain": [
       "                           requests  predictions  throughput_rps  \\\n",
       "timestamp                                                          \n",
       "2025-10-08 20:00:00+00:00         6         3000        0.001667   \n",
       "\n",
       "                           prediction_rps  avg_latency_ms  p50_latency_ms  \\\n",
       "timestamp                                                                   \n",
       "2025-10-08 20:00:00+00:00        0.833333      158.311112      142.672203   \n",
       "\n",
       "                           p95_latency_ms  p99_latency_ms  \\\n",
       "timestamp                                                   \n",
       "2025-10-08 20:00:00+00:00      220.696171      229.907193   \n",
       "\n",
       "                           avg_latency_per_element_ms  \\\n",
       "timestamp                                               \n",
       "2025-10-08 20:00:00+00:00                    0.316622   \n",
       "\n",
       "                           p50_latency_per_element_ms  \\\n",
       "timestamp                                               \n",
       "2025-10-08 20:00:00+00:00                    0.285344   \n",
       "\n",
       "                           p95_latency_per_element_ms  \\\n",
       "timestamp                                               \n",
       "2025-10-08 20:00:00+00:00                    0.441392   \n",
       "\n",
       "                           p99_latency_per_element_ms  error_rate  \n",
       "timestamp                                                          \n",
       "2025-10-08 20:00:00+00:00                    0.459814         0.0  "
      ]
     },
     "execution_count": 25,
     "metadata": {},
     "output_type": "execute_result"
    }
   ],
   "source": [
    "# -----------------------------\n",
    "# 7. Fetch Metrics\n",
    "# -----------------------------\n",
    "metrics = client.get_metrics(\"fraud\", next_version, as_dataframe=True)\n",
    "metrics"
   ]
  },
  {
   "cell_type": "code",
   "execution_count": 26,
   "id": "37a70f05-9b09-4e9c-82fe-22f9f302e5d2",
   "metadata": {},
   "outputs": [],
   "source": [
    "# -----------------------------\n",
    "# 7. Fetch Data Quality Metrics\n",
    "# -----------------------------\n",
    "d = client.get_data_quality(\"fraud\", next_version, as_dataframe=True)"
   ]
  },
  {
   "cell_type": "code",
   "execution_count": 27,
   "id": "9d9da5fd-5a08-4245-89e4-f85c0ea837a6",
   "metadata": {},
   "outputs": [
    {
     "data": {
      "text/html": [
       "<div>\n",
       "<style scoped>\n",
       "    .dataframe tbody tr th:only-of-type {\n",
       "        vertical-align: middle;\n",
       "    }\n",
       "\n",
       "    .dataframe tbody tr th {\n",
       "        vertical-align: top;\n",
       "    }\n",
       "\n",
       "    .dataframe thead th {\n",
       "        text-align: right;\n",
       "    }\n",
       "</style>\n",
       "<table border=\"1\" class=\"dataframe\">\n",
       "  <thead>\n",
       "    <tr style=\"text-align: right;\">\n",
       "      <th></th>\n",
       "      <th>feature</th>\n",
       "      <th>missing_fraction</th>\n",
       "    </tr>\n",
       "  </thead>\n",
       "  <tbody>\n",
       "    <tr>\n",
       "      <th>0</th>\n",
       "      <td>amount</td>\n",
       "      <td>0.0488</td>\n",
       "    </tr>\n",
       "    <tr>\n",
       "      <th>1</th>\n",
       "      <td>customer_age</td>\n",
       "      <td>0.0488</td>\n",
       "    </tr>\n",
       "    <tr>\n",
       "      <th>2</th>\n",
       "      <td>account_tenure_days</td>\n",
       "      <td>0.0488</td>\n",
       "    </tr>\n",
       "    <tr>\n",
       "      <th>3</th>\n",
       "      <td>num_prev_transactions</td>\n",
       "      <td>0.0488</td>\n",
       "    </tr>\n",
       "    <tr>\n",
       "      <th>4</th>\n",
       "      <td>transaction_type</td>\n",
       "      <td>0.0488</td>\n",
       "    </tr>\n",
       "    <tr>\n",
       "      <th>5</th>\n",
       "      <td>device_type</td>\n",
       "      <td>0.0488</td>\n",
       "    </tr>\n",
       "    <tr>\n",
       "      <th>6</th>\n",
       "      <td>country</td>\n",
       "      <td>0.0488</td>\n",
       "    </tr>\n",
       "  </tbody>\n",
       "</table>\n",
       "</div>"
      ],
      "text/plain": [
       "                 feature  missing_fraction\n",
       "0                 amount            0.0488\n",
       "1           customer_age            0.0488\n",
       "2    account_tenure_days            0.0488\n",
       "3  num_prev_transactions            0.0488\n",
       "4       transaction_type            0.0488\n",
       "5            device_type            0.0488\n",
       "6                country            0.0488"
      ]
     },
     "execution_count": 27,
     "metadata": {},
     "output_type": "execute_result"
    }
   ],
   "source": [
    "d['missingness']"
   ]
  },
  {
   "cell_type": "code",
   "execution_count": 28,
   "id": "036c1aa2-f655-49fa-86bb-55ee80a25555",
   "metadata": {},
   "outputs": [
    {
     "data": {
      "text/html": [
       "<div>\n",
       "<style scoped>\n",
       "    .dataframe tbody tr th:only-of-type {\n",
       "        vertical-align: middle;\n",
       "    }\n",
       "\n",
       "    .dataframe tbody tr th {\n",
       "        vertical-align: top;\n",
       "    }\n",
       "\n",
       "    .dataframe thead th {\n",
       "        text-align: right;\n",
       "    }\n",
       "</style>\n",
       "<table border=\"1\" class=\"dataframe\">\n",
       "  <thead>\n",
       "    <tr style=\"text-align: right;\">\n",
       "      <th></th>\n",
       "      <th>feature</th>\n",
       "      <th>pct_mean_diff</th>\n",
       "      <th>zscore_outlier_fraction</th>\n",
       "      <th>topk_shift</th>\n",
       "      <th>status</th>\n",
       "    </tr>\n",
       "  </thead>\n",
       "  <tbody>\n",
       "    <tr>\n",
       "      <th>0</th>\n",
       "      <td>amount</td>\n",
       "      <td>0.048752</td>\n",
       "      <td>0.0</td>\n",
       "      <td>NaN</td>\n",
       "      <td>ok</td>\n",
       "    </tr>\n",
       "    <tr>\n",
       "      <th>1</th>\n",
       "      <td>customer_age</td>\n",
       "      <td>0.022019</td>\n",
       "      <td>0.0</td>\n",
       "      <td>NaN</td>\n",
       "      <td>ok</td>\n",
       "    </tr>\n",
       "    <tr>\n",
       "      <th>2</th>\n",
       "      <td>account_tenure_days</td>\n",
       "      <td>0.012534</td>\n",
       "      <td>0.0</td>\n",
       "      <td>NaN</td>\n",
       "      <td>ok</td>\n",
       "    </tr>\n",
       "    <tr>\n",
       "      <th>3</th>\n",
       "      <td>num_prev_transactions</td>\n",
       "      <td>0.007692</td>\n",
       "      <td>0.0</td>\n",
       "      <td>NaN</td>\n",
       "      <td>ok</td>\n",
       "    </tr>\n",
       "    <tr>\n",
       "      <th>4</th>\n",
       "      <td>transaction_type</td>\n",
       "      <td>NaN</td>\n",
       "      <td>NaN</td>\n",
       "      <td>0.319416</td>\n",
       "      <td>alert</td>\n",
       "    </tr>\n",
       "    <tr>\n",
       "      <th>5</th>\n",
       "      <td>device_type</td>\n",
       "      <td>NaN</td>\n",
       "      <td>NaN</td>\n",
       "      <td>0.457888</td>\n",
       "      <td>alert</td>\n",
       "    </tr>\n",
       "    <tr>\n",
       "      <th>6</th>\n",
       "      <td>country</td>\n",
       "      <td>NaN</td>\n",
       "      <td>NaN</td>\n",
       "      <td>0.140034</td>\n",
       "      <td>warning</td>\n",
       "    </tr>\n",
       "  </tbody>\n",
       "</table>\n",
       "</div>"
      ],
      "text/plain": [
       "                 feature  pct_mean_diff  zscore_outlier_fraction  topk_shift  \\\n",
       "0                 amount       0.048752                      0.0         NaN   \n",
       "1           customer_age       0.022019                      0.0         NaN   \n",
       "2    account_tenure_days       0.012534                      0.0         NaN   \n",
       "3  num_prev_transactions       0.007692                      0.0         NaN   \n",
       "4       transaction_type            NaN                      NaN    0.319416   \n",
       "5            device_type            NaN                      NaN    0.457888   \n",
       "6                country            NaN                      NaN    0.140034   \n",
       "\n",
       "    status  \n",
       "0       ok  \n",
       "1       ok  \n",
       "2       ok  \n",
       "3       ok  \n",
       "4    alert  \n",
       "5    alert  \n",
       "6  warning  "
      ]
     },
     "execution_count": 28,
     "metadata": {},
     "output_type": "execute_result"
    }
   ],
   "source": [
    "d['drift']"
   ]
  },
  {
   "cell_type": "code",
   "execution_count": 29,
   "id": "a978ad6f-1c14-446c-ba83-ca96512c0076",
   "metadata": {},
   "outputs": [
    {
     "data": {
      "text/html": [
       "<div>\n",
       "<style scoped>\n",
       "    .dataframe tbody tr th:only-of-type {\n",
       "        vertical-align: middle;\n",
       "    }\n",
       "\n",
       "    .dataframe tbody tr th {\n",
       "        vertical-align: top;\n",
       "    }\n",
       "\n",
       "    .dataframe thead th {\n",
       "        text-align: right;\n",
       "    }\n",
       "</style>\n",
       "<table border=\"1\" class=\"dataframe\">\n",
       "  <thead>\n",
       "    <tr style=\"text-align: right;\">\n",
       "      <th></th>\n",
       "      <th>feature</th>\n",
       "      <th>zscore_fraction</th>\n",
       "      <th>status</th>\n",
       "    </tr>\n",
       "  </thead>\n",
       "  <tbody>\n",
       "    <tr>\n",
       "      <th>0</th>\n",
       "      <td>amount</td>\n",
       "      <td>0.0</td>\n",
       "      <td>ok</td>\n",
       "    </tr>\n",
       "    <tr>\n",
       "      <th>1</th>\n",
       "      <td>customer_age</td>\n",
       "      <td>0.0</td>\n",
       "      <td>ok</td>\n",
       "    </tr>\n",
       "    <tr>\n",
       "      <th>2</th>\n",
       "      <td>account_tenure_days</td>\n",
       "      <td>0.0</td>\n",
       "      <td>ok</td>\n",
       "    </tr>\n",
       "    <tr>\n",
       "      <th>3</th>\n",
       "      <td>num_prev_transactions</td>\n",
       "      <td>0.0</td>\n",
       "      <td>ok</td>\n",
       "    </tr>\n",
       "    <tr>\n",
       "      <th>4</th>\n",
       "      <td>transaction_type</td>\n",
       "      <td>NaN</td>\n",
       "      <td>not_applicable</td>\n",
       "    </tr>\n",
       "    <tr>\n",
       "      <th>5</th>\n",
       "      <td>device_type</td>\n",
       "      <td>NaN</td>\n",
       "      <td>not_applicable</td>\n",
       "    </tr>\n",
       "    <tr>\n",
       "      <th>6</th>\n",
       "      <td>country</td>\n",
       "      <td>NaN</td>\n",
       "      <td>not_applicable</td>\n",
       "    </tr>\n",
       "  </tbody>\n",
       "</table>\n",
       "</div>"
      ],
      "text/plain": [
       "                 feature  zscore_fraction          status\n",
       "0                 amount              0.0              ok\n",
       "1           customer_age              0.0              ok\n",
       "2    account_tenure_days              0.0              ok\n",
       "3  num_prev_transactions              0.0              ok\n",
       "4       transaction_type              NaN  not_applicable\n",
       "5            device_type              NaN  not_applicable\n",
       "6                country              NaN  not_applicable"
      ]
     },
     "execution_count": 29,
     "metadata": {},
     "output_type": "execute_result"
    }
   ],
   "source": [
    "d['outliers']"
   ]
  },
  {
   "cell_type": "code",
   "execution_count": 30,
   "id": "c40bd416-c658-4c52-b051-307fd525d6a2",
   "metadata": {},
   "outputs": [
    {
     "data": {
      "text/plain": [
       "{'status': 'ok', 'updated': 20, 'not_found': []}"
      ]
     },
     "execution_count": 30,
     "metadata": {},
     "output_type": "execute_result"
    }
   ],
   "source": [
    "# now let's give feedback for 10 more predictions\n",
    "test_ids=preds[\"prediction_ids\"][:20]\n",
    "\n",
    "feedback=[]\n",
    "for tid in test_ids:\n",
    "    val=np.random.randint(0, 2)\n",
    "    r=np.random.normal(10, 7)\n",
    "    feedback.append({\"prediction_id\":tid, \"true_value\":val, \"reward\":r})\n",
    "\n",
    "client.send_feedback(feedback)"
   ]
  },
  {
   "cell_type": "code",
   "execution_count": 31,
   "id": "f24481c0-1266-48ad-91f1-97e47ac629be",
   "metadata": {},
   "outputs": [
    {
     "data": {
      "text/html": [
       "<div>\n",
       "<style scoped>\n",
       "    .dataframe tbody tr th:only-of-type {\n",
       "        vertical-align: middle;\n",
       "    }\n",
       "\n",
       "    .dataframe tbody tr th {\n",
       "        vertical-align: top;\n",
       "    }\n",
       "\n",
       "    .dataframe thead th {\n",
       "        text-align: right;\n",
       "    }\n",
       "</style>\n",
       "<table border=\"1\" class=\"dataframe\">\n",
       "  <thead>\n",
       "    <tr style=\"text-align: right;\">\n",
       "      <th></th>\n",
       "      <th>model</th>\n",
       "      <th>version</th>\n",
       "      <th>window_hours</th>\n",
       "      <th>n</th>\n",
       "      <th>n_supervised</th>\n",
       "      <th>accuracy</th>\n",
       "      <th>f1</th>\n",
       "      <th>brier</th>\n",
       "      <th>mean_reward</th>\n",
       "      <th>n_rewards</th>\n",
       "    </tr>\n",
       "  </thead>\n",
       "  <tbody>\n",
       "    <tr>\n",
       "      <th>0</th>\n",
       "      <td>fraud</td>\n",
       "      <td>v2</td>\n",
       "      <td>24</td>\n",
       "      <td>3000</td>\n",
       "      <td>20</td>\n",
       "      <td>0.55</td>\n",
       "      <td>0.526316</td>\n",
       "      <td>0.45</td>\n",
       "      <td>9.488193</td>\n",
       "      <td>20</td>\n",
       "    </tr>\n",
       "  </tbody>\n",
       "</table>\n",
       "</div>"
      ],
      "text/plain": [
       "   model version  window_hours     n  n_supervised  accuracy        f1  brier  \\\n",
       "0  fraud      v2            24  3000            20      0.55  0.526316   0.45   \n",
       "\n",
       "   mean_reward  n_rewards  \n",
       "0     9.488193         20  "
      ]
     },
     "execution_count": 31,
     "metadata": {},
     "output_type": "execute_result"
    }
   ],
   "source": [
    "client.get_online_metrics(\"fraud\", next_version, window_hours=24, as_dataframe=True)"
   ]
  },
  {
   "cell_type": "code",
   "execution_count": 32,
   "id": "359dd1df-8c7e-45e7-b29e-047e80dac6ce",
   "metadata": {},
   "outputs": [
    {
     "data": {
      "text/plain": [
       "{'status': 'ok',\n",
       " 'message': 'Successfully stopped fraud:v2 and removed its container and image'}"
      ]
     },
     "execution_count": 32,
     "metadata": {},
     "output_type": "execute_result"
    }
   ],
   "source": [
    "client.stop_model(\"fraud\", next_version, remove=True)"
   ]
  }
 ],
 "metadata": {
  "kernelspec": {
   "display_name": "Python 3 (ipykernel)",
   "language": "python",
   "name": "python3"
  },
  "language_info": {
   "codemirror_mode": {
    "name": "ipython",
    "version": 3
   },
   "file_extension": ".py",
   "mimetype": "text/x-python",
   "name": "python",
   "nbconvert_exporter": "python",
   "pygments_lexer": "ipython3",
   "version": "3.12.4"
  }
 },
 "nbformat": 4,
 "nbformat_minor": 5
}
