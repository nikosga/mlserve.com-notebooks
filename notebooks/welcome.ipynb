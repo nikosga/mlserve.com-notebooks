{
 "cells": [
  {
   "cell_type": "code",
   "execution_count": 2,
   "id": "dd82e364-0854-4f0e-927c-8e6dee9da454",
   "metadata": {},
   "outputs": [
    {
     "data": {
      "text/plain": [
       "True"
      ]
     },
     "execution_count": 2,
     "metadata": {},
     "output_type": "execute_result"
    }
   ],
   "source": [
    "from sklearn.datasets import load_iris\n",
    "from sklearn.linear_model import LogisticRegression\n",
    "from mlserve_sdk.client import MLServeClient\n",
    "import pandas as pd\n",
    "import numpy as np\n",
    "import os\n",
    "from dotenv import load_dotenv\n",
    "\n",
    "load_dotenv()"
   ]
  },
  {
   "cell_type": "code",
   "execution_count": 16,
   "id": "8d0e22f3-8127-43ee-9da9-16d0c9ff31f2",
   "metadata": {},
   "outputs": [],
   "source": [
    "# -----------------------------\n",
    "# 1. Connect to MLServe\n",
    "# -----------------------------\n",
    "USERNAME = os.getenv(\"USERNAME\")\n",
    "TOKEN = os.getenv(\"TOKEN\")\n",
    "\n",
    "client = MLServeClient()\n",
    "client.login(USERNAME, TOKEN)"
   ]
  },
  {
   "cell_type": "code",
   "execution_count": 7,
   "id": "c7da99b7-03a3-4e07-ab4b-e5c92eb0b45c",
   "metadata": {},
   "outputs": [],
   "source": [
    "# -----------------------------\n",
    "# 2. Train a sample model\n",
    "# -----------------------------\n",
    "X, y = load_iris(return_X_y=True)\n",
    "model = LogisticRegression(max_iter=200)\n",
    "model.fit(X, y)\n",
    "score=model.score(X, y)"
   ]
  },
  {
   "cell_type": "code",
   "execution_count": 8,
   "id": "464b4628-dfb7-4ff1-9306-756005efb6b5",
   "metadata": {},
   "outputs": [
    {
     "data": {
      "text/plain": [
       "{'predict_url': 'https://mlserve.com/api/v1/predict/iris/v1'}"
      ]
     },
     "execution_count": 8,
     "metadata": {},
     "output_type": "execute_result"
    }
   ],
   "source": [
    "# -----------------------------\n",
    "# 3. Deploy model\n",
    "# -----------------------------\n",
    "feats=[\"sepal_length\", \"sepal_width\", \"petal_length\", \"petal_width\"]\n",
    "client.deploy(\n",
    "    model=model,\n",
    "    name=\"iris\",\n",
    "    version=\"v1\",\n",
    "    features=feats,\n",
    "    background_df=pd.DataFrame(X, columns=feats).sample(100).reset_index(drop=True),\n",
    "    task_type='classification',\n",
    "    metrics={'accuracy':score}\n",
    ")"
   ]
  },
  {
   "cell_type": "code",
   "execution_count": 32,
   "id": "81d515d4-249f-4c3e-87e6-f0d69f37a4e1",
   "metadata": {},
   "outputs": [
    {
     "name": "stdout",
     "output_type": "stream",
     "text": [
      "Predictions: {'version': 'v1', 'prediction_ids': ['9a300880-455d-4dd5-abea-2937810fa1db'], 'predictions': [0], 'explanations': [[]]}\n"
     ]
    }
   ],
   "source": [
    "# -----------------------------\n",
    "# 4. Predict (specific version)\n",
    "# -----------------------------\n",
    "iris_data = {\n",
    "    \"inputs\": [\n",
    "        [5.1, 3.5, 1.4, 0.2],  # Iris-setosa\n",
    "    ]\n",
    "}\n",
    "preds = client.predict(\"iris\", \"v1\", iris_data)\n",
    "print(\"Predictions:\", preds)"
   ]
  },
  {
   "cell_type": "code",
   "execution_count": 33,
   "id": "9ca49a18-df4e-4a13-9863-4fd0f77c5510",
   "metadata": {},
   "outputs": [
    {
     "data": {
      "text/html": [
       "<div>\n",
       "<style scoped>\n",
       "    .dataframe tbody tr th:only-of-type {\n",
       "        vertical-align: middle;\n",
       "    }\n",
       "\n",
       "    .dataframe tbody tr th {\n",
       "        vertical-align: top;\n",
       "    }\n",
       "\n",
       "    .dataframe thead th {\n",
       "        text-align: right;\n",
       "    }\n",
       "</style>\n",
       "<table border=\"1\" class=\"dataframe\">\n",
       "  <thead>\n",
       "    <tr style=\"text-align: right;\">\n",
       "      <th></th>\n",
       "      <th>requests</th>\n",
       "      <th>predictions</th>\n",
       "      <th>throughput_rps</th>\n",
       "      <th>prediction_rps</th>\n",
       "      <th>avg_latency_ms</th>\n",
       "      <th>p50_latency_ms</th>\n",
       "      <th>p95_latency_ms</th>\n",
       "      <th>p99_latency_ms</th>\n",
       "      <th>avg_latency_per_element_ms</th>\n",
       "      <th>p50_latency_per_element_ms</th>\n",
       "      <th>p95_latency_per_element_ms</th>\n",
       "      <th>p99_latency_per_element_ms</th>\n",
       "      <th>error_rate</th>\n",
       "    </tr>\n",
       "    <tr>\n",
       "      <th>timestamp</th>\n",
       "      <th></th>\n",
       "      <th></th>\n",
       "      <th></th>\n",
       "      <th></th>\n",
       "      <th></th>\n",
       "      <th></th>\n",
       "      <th></th>\n",
       "      <th></th>\n",
       "      <th></th>\n",
       "      <th></th>\n",
       "      <th></th>\n",
       "      <th></th>\n",
       "      <th></th>\n",
       "    </tr>\n",
       "  </thead>\n",
       "  <tbody>\n",
       "    <tr>\n",
       "      <th>2025-09-17 18:00:00</th>\n",
       "      <td>2</td>\n",
       "      <td>2</td>\n",
       "      <td>0.000556</td>\n",
       "      <td>0.000556</td>\n",
       "      <td>77.413091</td>\n",
       "      <td>77.413091</td>\n",
       "      <td>128.997065</td>\n",
       "      <td>133.582307</td>\n",
       "      <td>77.413091</td>\n",
       "      <td>77.413091</td>\n",
       "      <td>128.997065</td>\n",
       "      <td>133.582307</td>\n",
       "      <td>0.0</td>\n",
       "    </tr>\n",
       "    <tr>\n",
       "      <th>2025-09-17 20:00:00</th>\n",
       "      <td>13</td>\n",
       "      <td>13</td>\n",
       "      <td>0.003611</td>\n",
       "      <td>0.003611</td>\n",
       "      <td>20.230519</td>\n",
       "      <td>17.456689</td>\n",
       "      <td>32.839212</td>\n",
       "      <td>44.536259</td>\n",
       "      <td>20.230519</td>\n",
       "      <td>17.456689</td>\n",
       "      <td>32.839212</td>\n",
       "      <td>44.536259</td>\n",
       "      <td>0.0</td>\n",
       "    </tr>\n",
       "  </tbody>\n",
       "</table>\n",
       "</div>"
      ],
      "text/plain": [
       "                     requests  predictions  throughput_rps  prediction_rps  \\\n",
       "timestamp                                                                    \n",
       "2025-09-17 18:00:00         2            2        0.000556        0.000556   \n",
       "2025-09-17 20:00:00        13           13        0.003611        0.003611   \n",
       "\n",
       "                     avg_latency_ms  p50_latency_ms  p95_latency_ms  \\\n",
       "timestamp                                                             \n",
       "2025-09-17 18:00:00       77.413091       77.413091      128.997065   \n",
       "2025-09-17 20:00:00       20.230519       17.456689       32.839212   \n",
       "\n",
       "                     p99_latency_ms  avg_latency_per_element_ms  \\\n",
       "timestamp                                                         \n",
       "2025-09-17 18:00:00      133.582307                   77.413091   \n",
       "2025-09-17 20:00:00       44.536259                   20.230519   \n",
       "\n",
       "                     p50_latency_per_element_ms  p95_latency_per_element_ms  \\\n",
       "timestamp                                                                     \n",
       "2025-09-17 18:00:00                   77.413091                  128.997065   \n",
       "2025-09-17 20:00:00                   17.456689                   32.839212   \n",
       "\n",
       "                     p99_latency_per_element_ms  error_rate  \n",
       "timestamp                                                    \n",
       "2025-09-17 18:00:00                  133.582307         0.0  \n",
       "2025-09-17 20:00:00                   44.536259         0.0  "
      ]
     },
     "execution_count": 33,
     "metadata": {},
     "output_type": "execute_result"
    }
   ],
   "source": [
    "# -----------------------------\n",
    "# 7. Fetch Basic Metrics\n",
    "# -----------------------------\n",
    "metrics = client.get_metrics(\"iris\", \"v1\", as_dataframe=True)\n",
    "metrics"
   ]
  },
  {
   "cell_type": "code",
   "execution_count": null,
   "id": "7abb8e3c-c67b-4dfe-99ba-214569027404",
   "metadata": {},
   "outputs": [],
   "source": []
  }
 ],
 "metadata": {
  "kernelspec": {
   "display_name": "Python 3 (ipykernel)",
   "language": "python",
   "name": "python3"
  },
  "language_info": {
   "codemirror_mode": {
    "name": "ipython",
    "version": 3
   },
   "file_extension": ".py",
   "mimetype": "text/x-python",
   "name": "python",
   "nbconvert_exporter": "python",
   "pygments_lexer": "ipython3",
   "version": "3.12.4"
  }
 },
 "nbformat": 4,
 "nbformat_minor": 5
}
