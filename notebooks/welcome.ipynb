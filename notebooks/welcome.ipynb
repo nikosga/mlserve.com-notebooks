{
 "cells": [
  {
   "cell_type": "code",
   "execution_count": 103,
   "id": "dd82e364-0854-4f0e-927c-8e6dee9da454",
   "metadata": {},
   "outputs": [
    {
     "data": {
      "text/plain": [
       "True"
      ]
     },
     "execution_count": 103,
     "metadata": {},
     "output_type": "execute_result"
    }
   ],
   "source": [
    "from sklearn.datasets import load_iris\n",
    "from sklearn.linear_model import LogisticRegression\n",
    "from mlserve_sdk.client import MLServeClient\n",
    "import pandas as pd\n",
    "import numpy as np\n",
    "import os\n",
    "from dotenv import load_dotenv\n",
    "\n",
    "load_dotenv()"
   ]
  },
  {
   "cell_type": "code",
   "execution_count": 104,
   "id": "8d0e22f3-8127-43ee-9da9-16d0c9ff31f2",
   "metadata": {},
   "outputs": [],
   "source": [
    "# -----------------------------\n",
    "# 1. Connect to MLServe\n",
    "# -----------------------------\n",
    "USERNAME = os.getenv(\"USERNAME\")\n",
    "TOKEN = os.getenv(\"TOKEN\")\n",
    "\n",
    "client = MLServeClient()\n",
    "client.login(USERNAME, TOKEN)"
   ]
  },
  {
   "cell_type": "code",
   "execution_count": 105,
   "id": "c7da99b7-03a3-4e07-ab4b-e5c92eb0b45c",
   "metadata": {},
   "outputs": [],
   "source": [
    "# -----------------------------\n",
    "# 2. Train a sample model\n",
    "# -----------------------------\n",
    "data = load_iris(as_frame=True)\n",
    "X = data['data']\n",
    "y = data['target']\n",
    "model = LogisticRegression(max_iter=200)\n",
    "model.fit(X, y)\n",
    "score=model.score(X, y)"
   ]
  },
  {
   "cell_type": "code",
   "execution_count": 106,
   "id": "464b4628-dfb7-4ff1-9306-756005efb6b5",
   "metadata": {},
   "outputs": [
    {
     "data": {
      "text/plain": [
       "{'predict_url': 'https://mlserve.com/api/v1/predict/iris/v10'}"
      ]
     },
     "execution_count": 106,
     "metadata": {},
     "output_type": "execute_result"
    }
   ],
   "source": [
    "# -----------------------------\n",
    "# 3. Deploy model\n",
    "# -----------------------------\n",
    "feats=data['feature_names']\n",
    "client.deploy(\n",
    "    model=model,\n",
    "    name=\"iris\",\n",
    "    version=\"v10\",\n",
    "    features=feats,\n",
    "    background_df=X,\n",
    "    task_type='classification',\n",
    "    metrics={'accuracy':score}\n",
    ")"
   ]
  },
  {
   "cell_type": "code",
   "execution_count": 129,
   "id": "81d515d4-249f-4c3e-87e6-f0d69f37a4e1",
   "metadata": {},
   "outputs": [
    {
     "name": "stdout",
     "output_type": "stream",
     "text": [
      "Predictions: {'version': 'v10', 'prediction_ids': ['e4f61b51-2b3f-4ba3-90d1-b09d16045e8a'], 'predictions': [0], 'explanations': [[{'feature': 'petal length (cm)', 'value': 1.4, 'shap_value': 5.623, 'impact': 'positive'}, {'feature': 'petal width (cm)', 'value': 0.2, 'shap_value': 1.021, 'impact': 'positive'}, {'feature': 'sepal width (cm)', 'value': 3.5, 'shap_value': 0.412, 'impact': 'positive'}]]}\n"
     ]
    }
   ],
   "source": [
    "# -----------------------------\n",
    "# 4. Predict (specific version)\n",
    "# -----------------------------\n",
    "iris_data = {\n",
    "    \"inputs\": [\n",
    "        [5.1, 3.5, 1.4, 0.2],  # Iris-setosa\n",
    "    ]\n",
    "}\n",
    "preds = client.predict(\"iris\", \"v10\", iris_data, explain=True)\n",
    "print(\"Predictions:\", preds)"
   ]
  },
  {
   "cell_type": "code",
   "execution_count": 130,
   "id": "9ca49a18-df4e-4a13-9863-4fd0f77c5510",
   "metadata": {},
   "outputs": [
    {
     "data": {
      "text/html": [
       "<div>\n",
       "<style scoped>\n",
       "    .dataframe tbody tr th:only-of-type {\n",
       "        vertical-align: middle;\n",
       "    }\n",
       "\n",
       "    .dataframe tbody tr th {\n",
       "        vertical-align: top;\n",
       "    }\n",
       "\n",
       "    .dataframe thead th {\n",
       "        text-align: right;\n",
       "    }\n",
       "</style>\n",
       "<table border=\"1\" class=\"dataframe\">\n",
       "  <thead>\n",
       "    <tr style=\"text-align: right;\">\n",
       "      <th></th>\n",
       "      <th>requests</th>\n",
       "      <th>predictions</th>\n",
       "      <th>throughput_rps</th>\n",
       "      <th>prediction_rps</th>\n",
       "      <th>avg_latency_ms</th>\n",
       "      <th>p50_latency_ms</th>\n",
       "      <th>p95_latency_ms</th>\n",
       "      <th>p99_latency_ms</th>\n",
       "      <th>avg_latency_per_element_ms</th>\n",
       "      <th>p50_latency_per_element_ms</th>\n",
       "      <th>p95_latency_per_element_ms</th>\n",
       "      <th>p99_latency_per_element_ms</th>\n",
       "      <th>error_rate</th>\n",
       "    </tr>\n",
       "    <tr>\n",
       "      <th>timestamp</th>\n",
       "      <th></th>\n",
       "      <th></th>\n",
       "      <th></th>\n",
       "      <th></th>\n",
       "      <th></th>\n",
       "      <th></th>\n",
       "      <th></th>\n",
       "      <th></th>\n",
       "      <th></th>\n",
       "      <th></th>\n",
       "      <th></th>\n",
       "      <th></th>\n",
       "      <th></th>\n",
       "    </tr>\n",
       "  </thead>\n",
       "  <tbody>\n",
       "    <tr>\n",
       "      <th>2025-09-18 07:00:00</th>\n",
       "      <td>21</td>\n",
       "      <td>21</td>\n",
       "      <td>0.005833</td>\n",
       "      <td>0.005833</td>\n",
       "      <td>26.612702</td>\n",
       "      <td>17.409378</td>\n",
       "      <td>92.187309</td>\n",
       "      <td>131.462617</td>\n",
       "      <td>26.612702</td>\n",
       "      <td>17.409378</td>\n",
       "      <td>92.187309</td>\n",
       "      <td>131.462617</td>\n",
       "      <td>0.0</td>\n",
       "    </tr>\n",
       "  </tbody>\n",
       "</table>\n",
       "</div>"
      ],
      "text/plain": [
       "                     requests  predictions  throughput_rps  prediction_rps  \\\n",
       "timestamp                                                                    \n",
       "2025-09-18 07:00:00        21           21        0.005833        0.005833   \n",
       "\n",
       "                     avg_latency_ms  p50_latency_ms  p95_latency_ms  \\\n",
       "timestamp                                                             \n",
       "2025-09-18 07:00:00       26.612702       17.409378       92.187309   \n",
       "\n",
       "                     p99_latency_ms  avg_latency_per_element_ms  \\\n",
       "timestamp                                                         \n",
       "2025-09-18 07:00:00      131.462617                   26.612702   \n",
       "\n",
       "                     p50_latency_per_element_ms  p95_latency_per_element_ms  \\\n",
       "timestamp                                                                     \n",
       "2025-09-18 07:00:00                   17.409378                   92.187309   \n",
       "\n",
       "                     p99_latency_per_element_ms  error_rate  \n",
       "timestamp                                                    \n",
       "2025-09-18 07:00:00                  131.462617         0.0  "
      ]
     },
     "execution_count": 130,
     "metadata": {},
     "output_type": "execute_result"
    }
   ],
   "source": [
    "# -----------------------------\n",
    "# 7. Fetch Basic Metrics\n",
    "# -----------------------------\n",
    "metrics = client.get_metrics(\"iris\", \"v10\", as_dataframe=True)\n",
    "metrics"
   ]
  }
 ],
 "metadata": {
  "kernelspec": {
   "display_name": "Python 3 (ipykernel)",
   "language": "python",
   "name": "python3"
  },
  "language_info": {
   "codemirror_mode": {
    "name": "ipython",
    "version": 3
   },
   "file_extension": ".py",
   "mimetype": "text/x-python",
   "name": "python",
   "nbconvert_exporter": "python",
   "pygments_lexer": "ipython3",
   "version": "3.12.4"
  }
 },
 "nbformat": 4,
 "nbformat_minor": 5
}
