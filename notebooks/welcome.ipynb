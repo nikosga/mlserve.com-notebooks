{
 "cells": [
  {
   "cell_type": "markdown",
   "id": "9bc1b97f-28b1-4b24-a656-181de0650b62",
   "metadata": {},
   "source": [
    "# Introduction\n",
    "\n",
    "*Welcome to MLServe.com!*\n",
    "\n",
    "---\n",
    "In this notebook you will learn how to:\n",
    "\n",
    "1. Setup your notebook so that you can import MLServeClient and register/login to your account\n",
    "2. Train and deploy a model\n",
    "3. Make predictions using the MLServe.com client or a direct request\n",
    "4. Capturing metrics like requests, latency and requests per second"
   ]
  },
  {
   "cell_type": "markdown",
   "id": "15383ed2-3921-46d3-89ff-45acfa022009",
   "metadata": {},
   "source": [
    "# Preparation\n",
    "\n",
    "### Installing the client\n",
    "\n",
    "From this notebook (or in your requirements.txt of the environment) run\n",
    "\n",
    "```sh\n",
    "pip install mlserve-sdk\n",
    "```\n",
    "\n",
    "### Setting up credentials\n",
    "If you use the standard authentication method (username, password) then create a .env file and paste your credentials\n",
    "\n",
    "```txt\n",
    "USERNAME=your-username\n",
    "TOKEN=your-password\n",
    "```\n",
    "\n",
    "If you intend to register through google auth then you don't need to do anything!"
   ]
  },
  {
   "cell_type": "code",
   "execution_count": 1,
   "id": "dd82e364-0854-4f0e-927c-8e6dee9da454",
   "metadata": {},
   "outputs": [
    {
     "data": {
      "text/plain": [
       "True"
      ]
     },
     "execution_count": 1,
     "metadata": {},
     "output_type": "execute_result"
    }
   ],
   "source": [
    "from sklearn.datasets import load_iris\n",
    "from sklearn.linear_model import LogisticRegression\n",
    "from mlserve_sdk.client import MLServeClient\n",
    "import pandas as pd\n",
    "import numpy as np\n",
    "import os\n",
    "from dotenv import load_dotenv\n",
    "\n",
    "load_dotenv()"
   ]
  },
  {
   "cell_type": "code",
   "execution_count": 5,
   "id": "8d0e22f3-8127-43ee-9da9-16d0c9ff31f2",
   "metadata": {},
   "outputs": [],
   "source": [
    "# -----------------------------\n",
    "# 1a. Connect to MLServe - Standard auth\n",
    "# -----------------------------\n",
    "USERNAME = os.getenv(\"USERNAME\")\n",
    "PASSWORD = os.getenv(\"TOKEN\")\n",
    "\n",
    "client = MLServeClient()\n",
    "client.login(USERNAME, PASSWORD)"
   ]
  },
  {
   "cell_type": "code",
   "execution_count": 4,
   "id": "1de39b17-cf4d-4c30-845b-ddfe428989b0",
   "metadata": {},
   "outputs": [],
   "source": [
    "# -----------------------------\n",
    "# 1b. Connect to MLServe - Google auth\n",
    "# -----------------------------\n",
    "client = MLServeClient()\n",
    "client.google_login()"
   ]
  },
  {
   "cell_type": "code",
   "execution_count": 6,
   "id": "c7da99b7-03a3-4e07-ab4b-e5c92eb0b45c",
   "metadata": {},
   "outputs": [],
   "source": [
    "# -----------------------------\n",
    "# 2. Train a sample model\n",
    "# -----------------------------\n",
    "data = load_iris(as_frame=True)\n",
    "X = data['data']\n",
    "y = data['target']\n",
    "model = LogisticRegression(max_iter=200)\n",
    "model.fit(X, y)\n",
    "score=model.score(X, y)"
   ]
  },
  {
   "cell_type": "code",
   "execution_count": 7,
   "id": "464b4628-dfb7-4ff1-9306-756005efb6b5",
   "metadata": {},
   "outputs": [
    {
     "data": {
      "text/plain": [
       "{'predict_url': 'https://mlserve.com/api/v1/predict/iris/v1'}"
      ]
     },
     "execution_count": 7,
     "metadata": {},
     "output_type": "execute_result"
    }
   ],
   "source": [
    "# -----------------------------\n",
    "# 3. Deploy model\n",
    "# -----------------------------\n",
    "feats=data['feature_names']\n",
    "client.deploy(\n",
    "    model=model,\n",
    "    name=\"iris\",\n",
    "    version=\"v1\",\n",
    "    features=feats,\n",
    "    background_df=X,\n",
    "    task_type='classification',\n",
    "    metrics={'accuracy':score}\n",
    ")"
   ]
  },
  {
   "cell_type": "code",
   "execution_count": 27,
   "id": "81d515d4-249f-4c3e-87e6-f0d69f37a4e1",
   "metadata": {},
   "outputs": [
    {
     "name": "stdout",
     "output_type": "stream",
     "text": [
      "Predictions: {'version': 'v1', 'predictions': [0], 'explanations': [[{'feature': 'petal length (cm)', 'value': 1.4, 'shap_value': 5.623, 'impact': 'positive'}, {'feature': 'petal width (cm)', 'value': 0.2, 'shap_value': 1.021, 'impact': 'positive'}, {'feature': 'sepal width (cm)', 'value': 3.5, 'shap_value': 0.412, 'impact': 'positive'}]], 'prediction_ids': ['d0d9063f-ee25-4e0e-ad88-95e923a4baf3']}\n"
     ]
    }
   ],
   "source": [
    "# -----------------------------\n",
    "# 4a. Predict (specific version - SDK)\n",
    "# -----------------------------\n",
    "iris_data = {\n",
    "    \"inputs\": [\n",
    "        [5.1, 3.5, 1.4, 0.2],  # Iris-setosa\n",
    "    ]\n",
    "}\n",
    "preds = client.predict(\"iris\", \"v1\", iris_data, explain=True)\n",
    "print(\"Predictions:\", preds)"
   ]
  },
  {
   "cell_type": "code",
   "execution_count": 32,
   "id": "b891088a-b781-436d-8121-10671b985bd6",
   "metadata": {},
   "outputs": [
    {
     "name": "stdout",
     "output_type": "stream",
     "text": [
      "✅ Predictions:\n",
      "{\n",
      "  \"version\": \"v1\",\n",
      "  \"prediction_ids\": [\n",
      "    \"2fa19810-7734-4d0d-91cb-9244e1590a21\"\n",
      "  ],\n",
      "  \"predictions\": [\n",
      "    0\n",
      "  ],\n",
      "  \"explanations\": [\n",
      "    []\n",
      "  ]\n",
      "}\n"
     ]
    }
   ],
   "source": [
    "# -----------------------------\n",
    "# 4b. Predict (directly on the endpoint)\n",
    "# -----------------------------\n",
    "\n",
    "import requests\n",
    "import json\n",
    "\n",
    "# ----------------------------\n",
    "# Configuration\n",
    "# ----------------------------\n",
    "SERVER_URL = \"https://mlserve.com\"\n",
    "MODEL_NAME = \"iris\"\n",
    "MODEL_VERSION = \"v1\"\n",
    "TOKEN = \"YOUR_ACCESS_TOKEN_HERE\"  # obtained from login or google_login\n",
    "# Example input data — structure depends on your model\n",
    "payload = {\n",
    "    \"inputs\": [\n",
    "        [5.1, 3.5, 1.4, 0.2],  # Iris-setosa\n",
    "    ]\n",
    "}\n",
    "\n",
    "# ----------------------------\n",
    "# Direct API call\n",
    "# ----------------------------\n",
    "url = f\"{SERVER_URL}/api/v1/predict/{MODEL_NAME}/{MODEL_VERSION}\"\n",
    "headers = {\n",
    "    \"Authorization\": f\"Bearer {TOKEN}\",\n",
    "    \"Content-Type\": \"application/json\"\n",
    "}\n",
    "\n",
    "response = requests.post(url, headers=headers, data=json.dumps(payload))\n",
    "\n",
    "# ----------------------------\n",
    "# Response handling\n",
    "# ----------------------------\n",
    "if response.status_code == 200:\n",
    "    result = response.json()\n",
    "    print(\"✅ Predictions:\")\n",
    "    print(json.dumps(result, indent=2))\n",
    "else:\n",
    "    print(f\"❌ Error {response.status_code}: {response.text}\")"
   ]
  },
  {
   "cell_type": "code",
   "execution_count": 33,
   "id": "9ca49a18-df4e-4a13-9863-4fd0f77c5510",
   "metadata": {},
   "outputs": [
    {
     "data": {
      "text/html": [
       "<div>\n",
       "<style scoped>\n",
       "    .dataframe tbody tr th:only-of-type {\n",
       "        vertical-align: middle;\n",
       "    }\n",
       "\n",
       "    .dataframe tbody tr th {\n",
       "        vertical-align: top;\n",
       "    }\n",
       "\n",
       "    .dataframe thead th {\n",
       "        text-align: right;\n",
       "    }\n",
       "</style>\n",
       "<table border=\"1\" class=\"dataframe\">\n",
       "  <thead>\n",
       "    <tr style=\"text-align: right;\">\n",
       "      <th></th>\n",
       "      <th>requests</th>\n",
       "      <th>predictions</th>\n",
       "      <th>throughput_rps</th>\n",
       "      <th>prediction_rps</th>\n",
       "      <th>avg_latency_ms</th>\n",
       "      <th>p50_latency_ms</th>\n",
       "      <th>p95_latency_ms</th>\n",
       "      <th>p99_latency_ms</th>\n",
       "      <th>avg_latency_per_element_ms</th>\n",
       "      <th>p50_latency_per_element_ms</th>\n",
       "      <th>p95_latency_per_element_ms</th>\n",
       "      <th>p99_latency_per_element_ms</th>\n",
       "      <th>error_rate</th>\n",
       "    </tr>\n",
       "    <tr>\n",
       "      <th>timestamp</th>\n",
       "      <th></th>\n",
       "      <th></th>\n",
       "      <th></th>\n",
       "      <th></th>\n",
       "      <th></th>\n",
       "      <th></th>\n",
       "      <th></th>\n",
       "      <th></th>\n",
       "      <th></th>\n",
       "      <th></th>\n",
       "      <th></th>\n",
       "      <th></th>\n",
       "      <th></th>\n",
       "    </tr>\n",
       "  </thead>\n",
       "  <tbody>\n",
       "    <tr>\n",
       "      <th>2025-10-05 07:00:00+00:00</th>\n",
       "      <td>20</td>\n",
       "      <td>20</td>\n",
       "      <td>0.005556</td>\n",
       "      <td>0.005556</td>\n",
       "      <td>32.976645</td>\n",
       "      <td>33.843135</td>\n",
       "      <td>39.636271</td>\n",
       "      <td>65.179446</td>\n",
       "      <td>32.976645</td>\n",
       "      <td>33.843135</td>\n",
       "      <td>39.636271</td>\n",
       "      <td>65.179446</td>\n",
       "      <td>0.0</td>\n",
       "    </tr>\n",
       "    <tr>\n",
       "      <th>2025-10-05 08:00:00+00:00</th>\n",
       "      <td>1</td>\n",
       "      <td>1</td>\n",
       "      <td>0.000278</td>\n",
       "      <td>0.000278</td>\n",
       "      <td>76.300269</td>\n",
       "      <td>76.300269</td>\n",
       "      <td>76.300269</td>\n",
       "      <td>76.300269</td>\n",
       "      <td>76.300269</td>\n",
       "      <td>76.300269</td>\n",
       "      <td>76.300269</td>\n",
       "      <td>76.300269</td>\n",
       "      <td>0.0</td>\n",
       "    </tr>\n",
       "  </tbody>\n",
       "</table>\n",
       "</div>"
      ],
      "text/plain": [
       "                           requests  predictions  throughput_rps  \\\n",
       "timestamp                                                          \n",
       "2025-10-05 07:00:00+00:00        20           20        0.005556   \n",
       "2025-10-05 08:00:00+00:00         1            1        0.000278   \n",
       "\n",
       "                           prediction_rps  avg_latency_ms  p50_latency_ms  \\\n",
       "timestamp                                                                   \n",
       "2025-10-05 07:00:00+00:00        0.005556       32.976645       33.843135   \n",
       "2025-10-05 08:00:00+00:00        0.000278       76.300269       76.300269   \n",
       "\n",
       "                           p95_latency_ms  p99_latency_ms  \\\n",
       "timestamp                                                   \n",
       "2025-10-05 07:00:00+00:00       39.636271       65.179446   \n",
       "2025-10-05 08:00:00+00:00       76.300269       76.300269   \n",
       "\n",
       "                           avg_latency_per_element_ms  \\\n",
       "timestamp                                               \n",
       "2025-10-05 07:00:00+00:00                   32.976645   \n",
       "2025-10-05 08:00:00+00:00                   76.300269   \n",
       "\n",
       "                           p50_latency_per_element_ms  \\\n",
       "timestamp                                               \n",
       "2025-10-05 07:00:00+00:00                   33.843135   \n",
       "2025-10-05 08:00:00+00:00                   76.300269   \n",
       "\n",
       "                           p95_latency_per_element_ms  \\\n",
       "timestamp                                               \n",
       "2025-10-05 07:00:00+00:00                   39.636271   \n",
       "2025-10-05 08:00:00+00:00                   76.300269   \n",
       "\n",
       "                           p99_latency_per_element_ms  error_rate  \n",
       "timestamp                                                          \n",
       "2025-10-05 07:00:00+00:00                   65.179446         0.0  \n",
       "2025-10-05 08:00:00+00:00                   76.300269         0.0  "
      ]
     },
     "execution_count": 33,
     "metadata": {},
     "output_type": "execute_result"
    }
   ],
   "source": [
    "# -----------------------------\n",
    "# 5. Fetch Basic Metrics\n",
    "# -----------------------------\n",
    "metrics = client.get_metrics(\"iris\", \"v1\", as_dataframe=True)\n",
    "metrics"
   ]
  }
 ],
 "metadata": {
  "kernelspec": {
   "display_name": "Python 3 (ipykernel)",
   "language": "python",
   "name": "python3"
  },
  "language_info": {
   "codemirror_mode": {
    "name": "ipython",
    "version": 3
   },
   "file_extension": ".py",
   "mimetype": "text/x-python",
   "name": "python",
   "nbconvert_exporter": "python",
   "pygments_lexer": "ipython3",
   "version": "3.12.4"
  }
 },
 "nbformat": 4,
 "nbformat_minor": 5
}
